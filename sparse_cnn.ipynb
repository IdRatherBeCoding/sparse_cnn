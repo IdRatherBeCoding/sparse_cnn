{
 "cells": [
  {
   "cell_type": "markdown",
   "metadata": {},
   "source": [
    "# Sparse CNNs\n",
    "I have been considering starting a project to estimate the likelyhood that a [snooker](https://www.youtube.com/watch?v=V1s9oC5ebFs) player wins the game without missing. One important factor would be arrangement of the balls on the table; one might consider using a CNN to classify the opportunity offered to player at the start of their turn, given a picture of the snooker table. The only useful information specific to each picture would be the coordinates of each of the balls (max 22 x 2 numbers), but the input would need to be represented as a 2D image for the CNN to make use of spatial information. For this use case, one could probably get away with shrinking the input significantly, but if that was not possible, most of the processing time would be wasted on convolutions over zero-valued pixels.\n",
    "\n",
    "Several research groups have recently published implementations wihch address input sparsity directly, including [Facebook](https://github.com/facebookresearch/SparseConvNet) (Torch implementation) and [Intel](https://github.com/IntelLabs/SkimCaffe) (Caffe implementation). The former applies the approach to pen strokes and 3D point clouds.\n",
    "\n",
    "As a learning exercise, I decided to implement the Facebook approach in TensorFlow. I couldn't find any existing TensorFlow implementations when starting, but [this feature request](https://github.com/tensorflow/tensorflow/issues/1604) exists and has some \n",
    "recent activity.\n",
    "\n",
    "I discuss aspects of the implementation here, but see the python project [files](https://github.com/IdRatherBeCoding/sparse_cnn/tree/master/sparse_cnn_tensorflow) and [unit tests](https://github.com/IdRatherBeCoding/sparse_cnn/tree/master/tests/sparse_cnn_tensorflow) for full details."
   ]
  },
  {
   "cell_type": "markdown",
   "metadata": {},
   "source": [
    "## The algorithm\n",
    "I worked with the following brief guide from an [earlier paper](https://arxiv.org/abs/1505.02890) on the same work.\n",
    "\n",
    "<img src=\"algorithm.jpg\" width=\"50%\" height=\"50%\">\n",
    "\n",
    "So the approach is to iterate through the active sites of the sparse input and build a list of the active sites in the output, while placing the input values that contribute to an output value in the intermediate matrix Q. (_Active site_ refers to nonzero values in the typical sense, but in general the _ground state_ value will become nonzero itself after the first layer, due to bias terms).\n",
    "\n",
    "Each row of Q corresponds to an output active site, and the positioning of the input values in each row matches the ordering of the filter weights, stored in matrix W.\n",
    "\n",
    "The author implements step 1 on the CPU and steps 2 and 3 on the GPU.\n",
    "In this project I implement steps 1 and 2 in python using the special [tf.py_func](https://www.tensorflow.org/api_docs/python/tf/py_func) function for creating custom ops. For future work, I intend to implement an efficient version in C++.\n",
    "For the dense matrix multiplication in step 3, I simply use TensorFlow's matmul op."
   ]
  },
  {
   "cell_type": "markdown",
   "metadata": {},
   "source": [
    "## Representation of sparse data\n",
    "TensorFlow has good general support for sparse tensors. The [tf.SparseTensor](https://www.tensorflow.org/api_docs/python/tf/SparseTensor) class represents sparse data with an indices array, containing all the positions of the active sites, a values array and a record of the dense shape. For the approach I'm following here, a spatial position is considered active for all channels if any of the channels has an active value in that position.\n",
    "\n",
    "I created a custom class to represent this alternative form, and to provide methods for converting between dense and sparse forms."
   ]
  },
  {
   "cell_type": "code",
   "execution_count": 2,
   "metadata": {
    "collapsed": true,
    "deletable": true,
    "editable": true
   },
   "outputs": [],
   "source": [
    "from sparse_cnn_tensorflow.sparse_cnn import sparse_conv_2d\n",
    "from sparse_cnn_tensorflow.sparse_data_value import SparseDataValue\n",
    "from sparse_cnn_tensorflow.sparse_data_tensor import SparseDataTensor"
   ]
  },
  {
   "cell_type": "markdown",
   "metadata": {},
   "source": [
    "## Build H<sub>out</sub> and Q\n",
    "The function [build_h_out_and_Q](https://github.com/IdRatherBeCoding/sparse_cnn/blob/a68f2205d827cc7851055fc07be7cd6c27f0cedd/sparse_cnn_tensorflow/sparse_cnn.py#L17) first takes the sparse input components (H<sub>in</sub>, M<sub>in</sub>), iterates through H<sub>in</sub> and counts the number, a<sub>out</sub>, and positions of output active sites."
   ]
  },
  {
   "cell_type": "code",
   "execution_count": null,
   "metadata": {
    "collapsed": true
   },
   "outputs": [],
   "source": [
    "    output_sites = {}\n",
    "    # enumerate all output active sites and store the positions\n",
    "    i_out = 0\n",
    "    for [row, col] in H_in:\n",
    "        for i, j in filter_positions(row, col, height, width, f):\n",
    "            if (i, j) not in output_sites:\n",
    "                output_sites[(i, j)] = i_out\n",
    "                i_out += 1\n",
    "\n",
    "    a_out = i_out"
   ]
  },
  {
   "cell_type": "markdown",
   "metadata": {},
   "source": [
    "For each active spatial position in H<sub>in</sub>, the generator *filter_positions* is iterated, which provides the valid positions of the filter as it slides around the active site."
   ]
  },
  {
   "cell_type": "code",
   "execution_count": 8,
   "metadata": {
    "collapsed": true
   },
   "outputs": [],
   "source": [
    "def filter_positions(row, col, height, width, f):\n",
    "    # slide filter around this point to generate valid output positions\n",
    "    for irow in range(max(row - f + 1, 0), min(row + 1, height - f + 1)):\n",
    "        for icol in range(max(col - f + 1, 0), min(col + 1, width - f + 1)):\n",
    "            yield (irow, icol)"
   ]
  },
  {
   "cell_type": "markdown",
   "metadata": {},
   "source": [
    "Now that we know a<sub>out</sub>, we can initialize the matrices H<sub>out</sub> and Q."
   ]
  },
  {
   "cell_type": "code",
   "execution_count": null,
   "metadata": {
    "collapsed": true
   },
   "outputs": [],
   "source": [
    "    h_out = np.empty((a_out, 2), dtype=H_in.dtype)\n",
    "    q = np.empty((a_out, f * f, n_in), dtype=M_in.dtype)\n",
    "    for (i_gs, gs) in enumerate(ground_state):\n",
    "        q[:, :, i_gs] = gs\n",
    "    q = q.reshape((a_out, f * f * n_in))"
   ]
  },
  {
   "cell_type": "markdown",
   "metadata": {},
   "source": [
    "Finally we enumerate all output active sites again, populating H<sub>out</sub> and Q as we go."
   ]
  },
  {
   "cell_type": "code",
   "execution_count": null,
   "metadata": {
    "collapsed": true
   },
   "outputs": [],
   "source": [
    "    for idx, [row, col] in enumerate(H_in):\n",
    "        values = M_in[idx]\n",
    "        for i, j in filter_positions(row, col, height, width, f):\n",
    "            i_out = output_sites[(i, j)]\n",
    "            h_out[i_out, 0] = i\n",
    "            h_out[i_out, 1] = j\n",
    "            for i_val, value in enumerate(values):\n",
    "                q[i_out, position_in_filter(i, j, row, col, f, i_val, n_in)] = value"
   ]
  },
  {
   "cell_type": "markdown",
   "metadata": {},
   "source": [
    "For each position of the filter for active site a<sub>i</sub>, we need to know the index in the row Q[a<sub>i</sub>] that corresponds to the correct weight in W. In TensorFlow, the shape of the filter weights (see [here](https://www.tensorflow.org/versions/master/api_docs/python/tf/nn/conv2d)) is [filter_height, filter_width, in_channels, out_channels]. To make it easy to compare to TensorFlow, I choose the same ordering:"
   ]
  },
  {
   "cell_type": "code",
   "execution_count": 7,
   "metadata": {
    "collapsed": true
   },
   "outputs": [],
   "source": [
    "def position_in_filter(filter_row, filter_col, site_row, site_col, f, c_in, n_in):\n",
    "    return c_in + (site_col - filter_col) * n_in + (site_row - filter_row) * f * n_in"
   ]
  },
  {
   "cell_type": "markdown",
   "metadata": {},
   "source": [
    "## Create custom operation with *py_func*\n",
    "So far we have been working _numpy_ arrays. We can create a custom Op that can be used as part of a TensorFlow graph:"
   ]
  },
  {
   "cell_type": "code",
   "execution_count": null,
   "metadata": {
    "collapsed": true
   },
   "outputs": [],
   "source": [
    "    H_out, Q = tf.py_func(build_h_out_and_Q,\n",
    "                          [H_in, M_in, dense_shape, f, n_in, ground_state],\n",
    "                          [H_in.dtype, M_in.dtype])"
   ]
  },
  {
   "cell_type": "markdown",
   "metadata": {},
   "source": [
    "This is a very convenient way to try out new operations without having to go through the full procedure of [creating a new op](https://www.tensorflow.org/extend/adding_an_op) in C++. Of course, once the approach is validated, this effort is required for the sake of efficiency.\n",
    "\n",
    "H_out and Q in the above code snippet are Tensors, so we can compute M<sub>out</sub> as part of the graph."
   ]
  },
  {
   "cell_type": "code",
   "execution_count": null,
   "metadata": {
    "collapsed": true
   },
   "outputs": [],
   "source": [
    "    M_out = tf.add(tf.matmul(Q, W), b)"
   ]
  },
  {
   "cell_type": "markdown",
   "metadata": {},
   "source": [
    "We also need to calculate the value of the output ground-state."
   ]
  },
  {
   "cell_type": "code",
   "execution_count": 10,
   "metadata": {
    "collapsed": false
   },
   "outputs": [],
   "source": [
    "# W has shape (f*f*n_in, n_out)\n",
    "# tf.nn.conv_2d has W shape (batch_size, f, f, n_in, n_out)\n",
    "# so gs_n should have comparable ordering for product.\n",
    "def next_ground_state(W, gs_in, f):\n",
    "    gs_1 = tf.reshape(gs_in, (-1, 1))\n",
    "    gs_n = tf.tile(gs_1, [f * f, 1])\n",
    "    return tf.reshape(tf.matmul(W, gs_n, transpose_a=True), [-1])"
   ]
  },
  {
   "cell_type": "markdown",
   "metadata": {},
   "source": [
    "## Putting it all together\n",
    "Create a function that takes as input a SparseDataTensor (the tf.Tensor counterpart to my SparseDataValue mentioned earlier), and outputs another SparseDataTensor."
   ]
  },
  {
   "cell_type": "code",
   "execution_count": 11,
   "metadata": {
    "collapsed": true
   },
   "outputs": [],
   "source": [
    "def sparse_conv_2d(sparse_input, W, f, n_out, b):\n",
    "    # b should just be 1-D tensor of biases, length n_out\n",
    "\n",
    "    H_in = sparse_input.H\n",
    "    M_in = sparse_input.M\n",
    "    dense_shape = sparse_input.dense_shape\n",
    "    n_in = dense_shape[2]\n",
    "    ground_state = sparse_input.ground_state\n",
    "\n",
    "    output_spatial_shape = (dense_shape[0] - f + 1, dense_shape[1] - f + 1)\n",
    "\n",
    "    H_out, Q = tf.py_func(build_h_out_and_Q,\n",
    "                          [H_in, M_in, dense_shape, f, n_in, ground_state],\n",
    "                          [H_in.dtype, M_in.dtype])\n",
    "\n",
    "    M_out = tf.add(tf.matmul(Q, W), b)\n",
    "\n",
    "    output_dense_shape = (output_spatial_shape[0], output_spatial_shape[1], n_out)\n",
    "\n",
    "    output_ground_state = next_ground_state(W, ground_state, f) + b\n",
    "\n",
    "    return SparseDataTensor(H_out, M_out, output_dense_shape, output_ground_state)"
   ]
  },
  {
   "cell_type": "markdown",
   "metadata": {},
   "source": [
    "Checkout the [unit tests](https://github.com/IdRatherBeCoding/sparse_cnn/tree/master/tests/sparse_cnn_tensorflow) for simple examples of input."
   ]
  },
  {
   "cell_type": "markdown",
   "metadata": {},
   "source": [
    "## Sparse CNN on a real image\n",
    "... coming soon"
   ]
  },
  {
   "cell_type": "code",
   "execution_count": 3,
   "metadata": {
    "collapsed": true
   },
   "outputs": [],
   "source": [
    "import numpy as np\n",
    "import tensorflow as tf\n",
    "from PIL import Image\n",
    "import PIL"
   ]
  },
  {
   "cell_type": "code",
   "execution_count": 2,
   "metadata": {
    "collapsed": false,
    "deletable": true,
    "editable": true
   },
   "outputs": [
    {
     "data": {
      "image/png": "[encoded data removed]",
      "text/plain": [
       "<PIL.JpegImagePlugin.JpegImageFile image mode=RGB size=128x128 at 0x10B81F1D0>"
      ]
     },
     "execution_count": 2,
     "metadata": {},
     "output_type": "execute_result"
    }
   ],
   "source": [
    "dog_bg = Image.open(\"dog_with_bg.jpg\")\n",
    "dog_no_bg = Image.open(\"dog_without_bg.jpg\")\n",
    "dog_bg"
   ]
  },
  {
   "cell_type": "code",
   "execution_count": 3,
   "metadata": {
    "collapsed": false,
    "deletable": true,
    "editable": true
   },
   "outputs": [
    {
     "data": {
      "image/png": "[encoded data removed]",
      "text/plain": [
       "<PIL.JpegImagePlugin.JpegImageFile image mode=RGB size=128x128 at 0x10BA24A20>"
      ]
     },
     "execution_count": 3,
     "metadata": {},
     "output_type": "execute_result"
    }
   ],
   "source": [
    "dog_no_bg"
   ]
  },
  {
   "cell_type": "markdown",
   "metadata": {
    "deletable": true,
    "editable": true
   },
   "source": [
    "#### Create an image by averaging over output channels to disply the result of each convolutional layer\n",
    "This doesn't do much more than show progressiely blurry dogs, but it's a good check.\n",
    "Visualising the filters won't be informative becaue we're using random values."
   ]
  },
  {
   "cell_type": "code",
   "execution_count": 4,
   "metadata": {
    "collapsed": true,
    "deletable": true,
    "editable": true
   },
   "outputs": [],
   "source": [
    "def visualise_output(dense):\n",
    "    nc = dense.shape[2]\n",
    "    nc1 = nc // 3\n",
    "    nc2 = nc // 3\n",
    "    nc3 = nc - nc1 - nc2\n",
    "    a = np.empty((dense.shape[0], dense.shape[1], 3))\n",
    "    a[:, :, 0] = np.mean(dense[:, :, 0:nc1], axis=2)\n",
    "    a[:, :, 1] = np.mean(dense[:, :, nc1:nc1+nc2], axis=2)\n",
    "    a[:, :, 2] = np.mean(dense[:, :, nc2:nc], axis=2)\n",
    "    max_val = np.max(dense)\n",
    "    a = a * (255 / max_val)\n",
    "    return Image.fromarray(a.astype(np.uint8))"
   ]
  },
  {
   "cell_type": "code",
   "execution_count": 5,
   "metadata": {
    "collapsed": false,
    "deletable": true,
    "editable": true
   },
   "outputs": [],
   "source": [
    "dog_bg_value = SparseDataValue(np.asarray(dog_bg).astype(np.float32))\n",
    "dog_bg_tensor = SparseDataTensor(dog_bg_value.H, dog_bg_value.M, dog_bg_value.dense_shape, dog_bg_value.ground_state)"
   ]
  },
  {
   "cell_type": "code",
   "execution_count": 6,
   "metadata": {
    "collapsed": false,
    "deletable": true,
    "editable": true
   },
   "outputs": [],
   "source": [
    "dog_no_bg_value = SparseDataValue(np.asarray(dog_no_bg).astype(np.float32))\n",
    "dog_no_bg_tensor = SparseDataTensor(\n",
    "    dog_no_bg_value.H, dog_no_bg_value.M, dog_no_bg_value.dense_shape, dog_no_bg_value.ground_state)"
   ]
  },
  {
   "cell_type": "code",
   "execution_count": 22,
   "metadata": {
    "collapsed": false,
    "deletable": true,
    "editable": true
   },
   "outputs": [],
   "source": [
    "np.random.seed(1)\n",
    "\n",
    "f1 = 20\n",
    "n_in_1 = 3\n",
    "n_out_1 = 3\n",
    "\n",
    "f2 = 20\n",
    "n_out_2 = 3\n",
    "\n",
    "\n",
    "W1 = tf.constant(np.random.rand(f1*f1*n_in_1, n_out_1), dtype=tf.float32)\n",
    "b1 = tf.constant(np.random.rand(n_out_1), dtype=tf.float32)\n",
    "s_conv_1 = sparse_conv_2d(dog_no_bg_tensor, W1, f1, n_out_1, b1)\n",
    "s_A1 = s_conv_1.apply_relu()\n",
    "\n",
    "W2 = tf.constant(np.random.rand(f2*f2*n_out_1, n_out_2), dtype=tf.float32)\n",
    "b2 = tf.constant(np.random.rand(n_out_2), dtype=tf.float32)\n",
    "s_conv_2 = sparse_conv_2d(s_A1, W2, f2, n_out_2, b2)\n",
    "s_A2 = s_conv_2.apply_relu()\n"
   ]
  },
  {
   "cell_type": "code",
   "execution_count": null,
   "metadata": {
    "collapsed": false,
    "deletable": true,
    "editable": true
   },
   "outputs": [],
   "source": [
    "with tf.Session() as sess:\n",
    "    output = s_A2.to_value(sess)\n",
    "output"
   ]
  },
  {
   "cell_type": "code",
   "execution_count": 9,
   "metadata": {
    "collapsed": false,
    "deletable": true,
    "editable": true
   },
   "outputs": [
    {
     "data": {
      "image/png": "[encoded data removed]",
      "text/plain": [
       "<PIL.Image.Image image mode=RGB size=60x60 at 0x10BAAD240>"
      ]
     },
     "execution_count": 9,
     "metadata": {},
     "output_type": "execute_result"
    }
   ],
   "source": [
    "visualise_output(output.to_dense())"
   ]
  },
  {
   "cell_type": "code",
   "execution_count": null,
   "metadata": {
    "collapsed": true,
    "deletable": true,
    "editable": true
   },
   "outputs": [],
   "source": []
  }
 ],
 "metadata": {
  "kernelspec": {
   "display_name": "Python 3",
   "language": "python",
   "name": "python3"
  },
  "language_info": {
   "codemirror_mode": {
    "name": "ipython",
    "version": 3
   },
   "file_extension": ".py",
   "mimetype": "text/x-python",
   "name": "python",
   "nbconvert_exporter": "python",
   "pygments_lexer": "ipython3",
   "version": "3.5.3"
  }
 },
 "nbformat": 4,
 "nbformat_minor": 2
}
